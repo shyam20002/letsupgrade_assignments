{
  "nbformat": 4,
  "nbformat_minor": 0,
  "metadata": {
    "colab": {
      "name": "assignment 2.ipynb",
      "provenance": []
    },
    "kernelspec": {
      "display_name": "Python 3",
      "name": "python3"
    }
  },
  "cells": [
    {
      "cell_type": "code",
      "metadata": {
        "colab": {
          "base_uri": "https://localhost:8080/"
        },
        "id": "EZxDVBbmPwKF",
        "outputId": "2939cb35-5b11-4776-c9a4-56abb8ba7843"
      },
      "source": [
        "dict={'shyam':'mark sheet 1','sathish':'marksheet 2'}\r\n",
        "dict1={'tamil':95,'english':90,'maths':95,'science':98,'ss':100}\r\n",
        "print(dict)\r\n",
        "print(dict1)\r\n",
        "x=dict1.get(\"tamil\")\r\n",
        "print(x)\r\n",
        "dict.pop('shyam')\r\n",
        "print(dict)\r\n",
        "dict.update({'dinesh':'marksheet 2'})\r\n",
        "print(dict)\r\n",
        "x=dict1.values()\r\n",
        "print(x)\r\n",
        "x=dict.clear()\r\n",
        "y=dict1.clear()\r\n",
        "print(\"after clearing two dictionairies dict and dict1\",x,y,\"respectively\")\r\n",
        "\r\n",
        "\r\n",
        "\r\n",
        "\r\n",
        "\r\n",
        "\r\n"
      ],
      "execution_count": 23,
      "outputs": [
        {
          "output_type": "stream",
          "text": [
            "{'shyam': 'mark sheet 1', 'sathish': 'marksheet 2'}\n",
            "{'tamil': 95, 'english': 90, 'maths': 95, 'science': 98, 'ss': 100}\n",
            "95\n",
            "{'sathish': 'marksheet 2'}\n",
            "{'sathish': 'marksheet 2', 'dinesh': 'marksheet 2'}\n",
            "dict_values([95, 90, 95, 98, 100])\n",
            "after clearing two dictionairies dict and dict1 None None respectively\n"
          ],
          "name": "stdout"
        }
      ]
    }
  ]
}