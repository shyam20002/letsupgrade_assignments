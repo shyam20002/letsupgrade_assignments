{
  "nbformat": 4,
  "nbformat_minor": 0,
  "metadata": {
    "colab": {
      "name": "ASSIGNMENT 3.ipynb",
      "provenance": []
    },
    "kernelspec": {
      "name": "python3",
      "display_name": "Python 3"
    }
  },
  "cells": [
    {
      "cell_type": "code",
      "metadata": {
        "colab": {
          "base_uri": "https://localhost:8080/"
        },
        "id": "NfJoYgd7UPhN",
        "outputId": "754a08d4-e06b-49d2-91ae-ee6d047367b0"
      },
      "source": [
        "altitude=int(input(\"type the altitude :\"))\r\n",
        "if altitude>5000 :\r\n",
        "    print(\"GO AROUND AND TRY LATER !!!\")\r\n",
        "elif altitude<5000 and altitude>1000 :\r\n",
        "    print(\"come down to 1000 feet !!!\")\r\n",
        "else:\r\n",
        "  print(\"SAFE TO LAND\")\r\n",
        "           "
      ],
      "execution_count": 3,
      "outputs": [
        {
          "output_type": "stream",
          "text": [
            "type the altitude :2000\n",
            "come down to 1000 feet !!!\n"
          ],
          "name": "stdout"
        }
      ]
    }
  ]
}