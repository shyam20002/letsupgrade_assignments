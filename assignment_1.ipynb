{
  "nbformat": 4,
  "nbformat_minor": 0,
  "metadata": {
    "colab": {
      "name": "assignment 1.ipynb",
      "provenance": []
    },
    "kernelspec": {
      "name": "python3",
      "display_name": "Python 3"
    }
  },
  "cells": [
    {
      "cell_type": "code",
      "metadata": {
        "colab": {
          "base_uri": "https://localhost:8080/"
        },
        "id": "xsrKcVH3NlMe",
        "outputId": "068d57d0-8e62-4eb9-e436-4f76a7b2d872"
      },
      "source": [
        "lst=[1,2,3,4,5,\"hike\",\"signal\"]\r\n",
        "print(\"my list is -\",lst)\r\n",
        "lst.append(6)\r\n",
        "print(\"after appending 6 to the list my list is -\",lst)\r\n",
        "x=len(lst)\r\n",
        "print(\"length of my list is -\",x)\r\n",
        "x=min(1,2,3,4,5)\r\n",
        "print(\"Minimum num in the list is -\",x)\r\n",
        "x=min(\"hike\",\"signal\")\r\n",
        "print(\"small word in the list is -\",x)\r\n",
        "x=lst.count(4)\r\n",
        "print(\"total number of one in the list is -\",x)\r\n",
        "x=lst.index(\"hike\")\r\n",
        "print(\"the index the hike is - \",x)\r\n",
        "print(\"the reverse order of the list is \",lst[-1::-1])\r\n",
        "lst.pop(7)\r\n",
        "print(\"after deleting 6 from the list my list is\",lst)"
      ],
      "execution_count": 19,
      "outputs": [
        {
          "output_type": "stream",
          "text": [
            "my list is - [1, 2, 3, 4, 5, 'hike', 'signal']\n",
            "after appending 6 to the list my list is - [1, 2, 3, 4, 5, 'hike', 'signal', 6]\n",
            "length of my list is - 8\n",
            "Minimum num in the list is - 1\n",
            "small word in the list is - hike\n",
            "total number of one in the list is - 1\n",
            "the index the hike is -  5\n",
            "the reverse order of the list is  [6, 'signal', 'hike', 5, 4, 3, 2, 1]\n",
            "after deleting 6 from the list my list is [1, 2, 3, 4, 5, 'hike', 'signal']\n"
          ],
          "name": "stdout"
        }
      ]
    }
  ]
}